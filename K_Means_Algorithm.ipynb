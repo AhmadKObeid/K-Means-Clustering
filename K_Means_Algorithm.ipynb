{
  "nbformat": 4,
  "nbformat_minor": 0,
  "metadata": {
    "colab": {
      "name": "K-Means Algorithm.ipynb",
      "provenance": [],
      "collapsed_sections": [],
      "authorship_tag": "ABX9TyPQoP7CrwZWR11FO2IVzqZi",
      "include_colab_link": true
    },
    "kernelspec": {
      "name": "python3",
      "display_name": "Python 3"
    }
  },
  "cells": [
    {
      "cell_type": "markdown",
      "metadata": {
        "id": "view-in-github",
        "colab_type": "text"
      },
      "source": [
        "<a href=\"https://colab.research.google.com/github/AhmadKObeid/K-Means-Clustering/blob/master/K_Means_Algorithm.ipynb\" target=\"_parent\"><img src=\"https://colab.research.google.com/assets/colab-badge.svg\" alt=\"Open In Colab\"/></a>"
      ]
    },
    {
      "cell_type": "markdown",
      "metadata": {
        "id": "FWkkZAYRnTB1",
        "colab_type": "text"
      },
      "source": [
        "# **Importing the Libraries**"
      ]
    },
    {
      "cell_type": "code",
      "metadata": {
        "id": "PiB0ocGJfmHq",
        "colab_type": "code",
        "colab": {}
      },
      "source": [
        "import matplotlib.pyplot as plt\n",
        "%matplotlib inline\n",
        "import numpy as np\n",
        "from sklearn.cluster import KMeans"
      ],
      "execution_count": 0,
      "outputs": []
    },
    {
      "cell_type": "markdown",
      "metadata": {
        "id": "SFVxLhlynmtN",
        "colab_type": "text"
      },
      "source": [
        "# **Preparing the Dataset**"
      ]
    },
    {
      "cell_type": "code",
      "metadata": {
        "id": "2Q7Zj52Kg7WJ",
        "colab_type": "code",
        "colab": {}
      },
      "source": [
        "X = np.random.rand(100,2)"
      ],
      "execution_count": 0,
      "outputs": []
    },
    {
      "cell_type": "markdown",
      "metadata": {
        "id": "soXjkKUmnwRF",
        "colab_type": "text"
      },
      "source": [
        "# **Visualizing the Data**"
      ]
    },
    {
      "cell_type": "code",
      "metadata": {
        "id": "Ge3f7yBhfrmb",
        "colab_type": "code",
        "colab": {
          "base_uri": "https://localhost:8080/",
          "height": 282
        },
        "outputId": "7b5afbe2-9be1-47b5-b9f0-bf9f154714c6"
      },
      "source": [
        "plt.scatter(X[:,0],X[:,1], label='True Position')"
      ],
      "execution_count": 20,
      "outputs": [
        {
          "output_type": "execute_result",
          "data": {
            "text/plain": [
              "<matplotlib.collections.PathCollection at 0x7fb78301b6a0>"
            ]
          },
          "metadata": {
            "tags": []
          },
          "execution_count": 20
        },
        {
          "output_type": "display_data",
          "data": {
            "image/png": "[encoded data removed]",
            "text/plain": [
              "<Figure size 432x288 with 1 Axes>"
            ]
          },
          "metadata": {
            "tags": [],
            "needs_background": "light"
          }
        }
      ]
    },
    {
      "cell_type": "markdown",
      "metadata": {
        "id": "v6Tk-BUfn5Vi",
        "colab_type": "text"
      },
      "source": [
        "# **Creating the Clusters**"
      ]
    },
    {
      "cell_type": "code",
      "metadata": {
        "id": "HePo5aTzfx4e",
        "colab_type": "code",
        "colab": {
          "base_uri": "https://localhost:8080/",
          "height": 68
        },
        "outputId": "d5857cbd-4149-41f1-e96c-516a475d3710"
      },
      "source": [
        "kmeans = KMeans(n_clusters=4)\n",
        "kmeans.fit(X)"
      ],
      "execution_count": 21,
      "outputs": [
        {
          "output_type": "execute_result",
          "data": {
            "text/plain": [
              "KMeans(algorithm='auto', copy_x=True, init='k-means++', max_iter=300,\n",
              "       n_clusters=4, n_init=10, n_jobs=None, precompute_distances='auto',\n",
              "       random_state=None, tol=0.0001, verbose=0)"
            ]
          },
          "metadata": {
            "tags": []
          },
          "execution_count": 21
        }
      ]
    },
    {
      "cell_type": "markdown",
      "metadata": {
        "id": "6plJNm12oDCb",
        "colab_type": "text"
      },
      "source": [
        "Below is a printed array of each data points cluster so we created 4 clusters each data point is asigned a cluster (0-3)"
      ]
    },
    {
      "cell_type": "code",
      "metadata": {
        "id": "UfD4Qg4xf51D",
        "colab_type": "code",
        "colab": {
          "base_uri": "https://localhost:8080/",
          "height": 68
        },
        "outputId": "b7a2e647-1751-4b85-fda4-7f01956cddc7"
      },
      "source": [
        "print(kmeans.labels_)"
      ],
      "execution_count": 22,
      "outputs": [
        {
          "output_type": "stream",
          "text": [
            "[3 1 3 3 3 3 2 1 3 0 3 1 0 1 3 1 3 0 0 2 1 3 1 3 0 0 2 2 0 2 1 2 1 1 3 2 1\n",
            " 1 1 3 1 0 2 3 1 0 3 3 1 1 1 0 0 0 0 0 2 2 0 1 2 0 0 2 0 3 3 1 2 1 0 0 0 2\n",
            " 2 0 0 3 1 1 0 3 3 0 0 3 2 1 0 2 2 0 1 3 2 3 3 1 2 3]\n"
          ],
          "name": "stdout"
        }
      ]
    },
    {
      "cell_type": "markdown",
      "metadata": {
        "id": "jeu_gmCPogIA",
        "colab_type": "text"
      },
      "source": [
        "# **Visualizing the Created Clusters**"
      ]
    },
    {
      "cell_type": "code",
      "metadata": {
        "id": "0aSZ8VACgEUF",
        "colab_type": "code",
        "colab": {
          "base_uri": "https://localhost:8080/",
          "height": 282
        },
        "outputId": "4a14284c-23ca-486a-b6c3-83e891731051"
      },
      "source": [
        "plt.scatter(X[:,0],X[:,1], c=kmeans.labels_, cmap='rainbow')"
      ],
      "execution_count": 23,
      "outputs": [
        {
          "output_type": "execute_result",
          "data": {
            "text/plain": [
              "<matplotlib.collections.PathCollection at 0x7fb782ffd9b0>"
            ]
          },
          "metadata": {
            "tags": []
          },
          "execution_count": 23
        },
        {
          "output_type": "display_data",
          "data": {
            "image/png": "[encoded data removed]",
            "text/plain": [
              "<Figure size 432x288 with 1 Axes>"
            ]
          },
          "metadata": {
            "tags": [],
            "needs_background": "light"
          }
        }
      ]
    }
  ]
}